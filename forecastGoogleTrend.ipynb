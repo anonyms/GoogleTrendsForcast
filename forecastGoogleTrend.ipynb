{
 "cells": [
  {
   "cell_type": "code",
   "execution_count": 5,
   "metadata": {},
   "outputs": [],
   "source": [
    "from pmdarima import auto_arima\n",
    "from pytrends.request import TrendReq\n",
    "from statsmodels.tsa.statespace.sarimax import SARIMAX\n",
    "import pandas as pd\n",
    "import numpy as np"
   ]
  },
  {
   "cell_type": "code",
   "execution_count": 18,
   "metadata": {},
   "outputs": [],
   "source": [
    "def forecastGoogleTrends(kw_list, geo= 'NO',timeframe = '2014-01-01 2021-04-17', option = 'TestPrediction', csv_file_name = 'toto'):\n",
    "\n",
    "    pytrends = TrendReq(hl='en-US', tz=360)\n",
    "    # Create payload and capture API tokens. Only needed for interest_over_time(), interest_by_region() & related_queries()\n",
    "    pytrends.build_payload(kw_list=kw_list, timeframe = timeframe, geo=geo)\n",
    "\n",
    "    # Interest Over Time\n",
    "    interest_over_time_df = pytrends.interest_over_time()\n",
    "    \n",
    "    interest_over_time_df = interest_over_time_df[interest_over_time_df['isPartial']==\"False\"]\n",
    "    interest_over_time_df.drop(labels=['isPartial'],axis='columns',inplace=True)\n",
    "    interest_over_time_df.index.freq = 'MS'\n",
    "    \n",
    "    if option == 'TestPrediction':\n",
    "        end_train_data = len(interest_over_time_df)-int(len(interest_over_time_df)*0.2)\n",
    "        start_test_data = end_train_data\n",
    "        result_df = pd.DataFrame()\n",
    "        \n",
    "        for keyword in kw_list:\n",
    "            train_data = interest_over_time_df[keyword].iloc[:end_train_data]\n",
    "            test_data = interest_over_time_df[keyword].iloc[start_test_data:] \n",
    "            auto = auto_arima(train_data,seasonal=True,m=12)\n",
    "            model = SARIMAX(train_data,order=auto.get_params()['order'],seasonal_order=auto.get_params()['seasonal_order'],enforce_invertibility=False)\n",
    "            result = model.fit()\n",
    "            start = len(train_data)\n",
    "            end = len(train_data) + len(test_data) -1\n",
    "            predictions = result.predict(start,end).rename('SARIMA Model')\n",
    "            result_series = train_data.append(test_data)\n",
    "            if result_df.empty:\n",
    "                result_df = result_series.to_frame(name=keyword)\n",
    "                result_df.index\n",
    "            else:\n",
    "                result_df[keyword] =result_series \n",
    "            predictioncol_name = keyword + \"_prediction\"\n",
    "            result_df[predictioncol_name] = predictions\n",
    "    \n",
    "    elif option == 'Predict':\n",
    "        result_df = pd.DataFrame()\n",
    "        for keyword in kw_list:\n",
    "            train_data = interest_over_time_df[keyword]\n",
    "            auto = auto_arima(train_data,seasonal=True,m=12)\n",
    "            model = SARIMAX(train_data,order=auto.get_params()['order'],seasonal_order=auto.get_params()['seasonal_order'],enforce_invertibility=False)\n",
    "            result = model.fit()\n",
    "            start = len(train_data)\n",
    "            end = start + int(len(interest_over_time_df)*0.2)\n",
    "            predictions = result.predict(start,end).rename('SARIMA Model')\n",
    "            result_series = train_data.append(predictions)\n",
    "            if result_df.empty:\n",
    "                result_df = result_series.to_frame(name=keyword)\n",
    "                result_df.index\n",
    "            else:\n",
    "                result_df[keyword] =result_series \n",
    "            predictioncol_name = keyword + \"_prediction\"\n",
    "            result_df[predictioncol_name] = predictions\n",
    "    \n",
    "    \n",
    "    else:\n",
    "        raise TypeError(\"Invalid option provided\")\n",
    "    csv_file_name = csv_file_name + '.csv'\n",
    "    result_df.to_csv(csv_file_name)"
   ]
  },
  {
   "cell_type": "code",
   "execution_count": 22,
   "metadata": {},
   "outputs": [
    {
     "name": "stderr",
     "output_type": "stream",
     "text": [
      "C:\\Users\\stefa\\AppData\\Roaming\\Python\\Python37\\site-packages\\pmdarima\\arima\\auto.py:460: UserWarning: Input time-series is completely constant; returning a (0, 0, 0) ARMA.\n",
      "  warnings.warn('Input time-series is completely constant; '\n",
      "C:\\Users\\stefa\\AppData\\Roaming\\Python\\Python37\\site-packages\\statsmodels\\base\\model.py:568: ConvergenceWarning: Maximum Likelihood optimization failed to converge. Check mle_retvals\n",
      "  ConvergenceWarning)\n",
      "C:\\Users\\stefa\\AppData\\Roaming\\Python\\Python37\\site-packages\\pmdarima\\arima\\auto.py:460: UserWarning: Input time-series is completely constant; returning a (0, 0, 0) ARMA.\n",
      "  warnings.warn('Input time-series is completely constant; '\n",
      "C:\\Users\\stefa\\AppData\\Roaming\\Python\\Python37\\site-packages\\statsmodels\\base\\model.py:568: ConvergenceWarning: Maximum Likelihood optimization failed to converge. Check mle_retvals\n",
      "  ConvergenceWarning)\n"
     ]
    }
   ],
   "source": [
    "forecastGoogleTrends(['bitcoin','equinor','aksjer'],geo='') ## Use geo = '' for worldwide"
   ]
  }
 ],
 "metadata": {
  "kernelspec": {
   "display_name": "Python 3",
   "language": "python",
   "name": "python3"
  },
  "language_info": {
   "codemirror_mode": {
    "name": "ipython",
    "version": 3
   },
   "file_extension": ".py",
   "mimetype": "text/x-python",
   "name": "python",
   "nbconvert_exporter": "python",
   "pygments_lexer": "ipython3",
   "version": "3.7.3"
  }
 },
 "nbformat": 4,
 "nbformat_minor": 4
}
